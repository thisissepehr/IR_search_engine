{
 "cells": [
  {
   "cell_type": "code",
   "execution_count": 1,
   "metadata": {},
   "outputs": [
    {
     "name": "stderr",
     "output_type": "stream",
     "text": [
      "/usr/local/lib/python3.9/site-packages/IPython/core/interactiveshell.py:3444: DtypeWarning: Columns (1,4,5,6,13,14,15,16) have mixed types.Specify dtype option on import or set low_memory=False.\n",
      "  exec(code_obj, self.user_global_ns, self.user_ns)\n"
     ]
    }
   ],
   "source": [
    "import pandas\n",
    "# reading the CSV file\n",
    "original = pandas.read_csv('./2022-03-31/metadata.csv')"
   ]
  },
  {
   "cell_type": "code",
   "execution_count": 7,
   "metadata": {},
   "outputs": [],
   "source": [
    "subset_10k = original[:10000]\n",
    "subset_1k = original[:1000]\n",
    "subset_1c = original[:100]"
   ]
  },
  {
   "cell_type": "code",
   "execution_count": 9,
   "metadata": {},
   "outputs": [],
   "source": [
    "subset_10k.to_csv('./10k-subset/metadata.csv')\n",
    "subset_1k.to_csv('./1k-subset/metadata.csv')\n",
    "subset_1c.to_csv('./1c-subset/metadata.csv')"
   ]
  },
  {
   "cell_type": "code",
   "execution_count": 25,
   "metadata": {},
   "outputs": [],
   "source": [
    "import shutil\n",
    "files_1c = subset_1c['pdf_json_files']\n",
    "for file_name in files_1c:\n",
    "    if type(file_name)==str:\n",
    "        file_name = file_name.split()[0].replace(';','')\n",
    "        shutil.copy('./2022-03-31/'+file_name, './1c-subset/document_parses/pdf_json')"
   ]
  },
  {
   "cell_type": "code",
   "execution_count": 26,
   "metadata": {},
   "outputs": [],
   "source": [
    "import shutil\n",
    "files_1k = subset_1k['pdf_json_files']\n",
    "for file_name in files_1k:\n",
    "    if type(file_name)==str:\n",
    "        file_name = file_name.split()[0].replace(';','')\n",
    "        shutil.copy('./2022-03-31/'+file_name, './1k-subset/document_parses/pdf_json')"
   ]
  },
  {
   "cell_type": "code",
   "execution_count": 27,
   "metadata": {},
   "outputs": [],
   "source": [
    "import shutil\n",
    "files_10k = subset_10k['pdf_json_files']\n",
    "for file_name in files_10k:\n",
    "    if type(file_name)==str:\n",
    "        file_name = file_name.split()[0].replace(';','')\n",
    "        shutil.copy('./2022-03-31/'+file_name, './10k-subset/document_parses/pdf_json')"
   ]
  }
 ],
 "metadata": {
  "interpreter": {
   "hash": "aee8b7b246df8f9039afb4144a1f6fd8d2ca17a180786b69acc140d282b71a49"
  },
  "kernelspec": {
   "display_name": "Python 3.9.12 64-bit",
   "language": "python",
   "name": "python3"
  },
  "language_info": {
   "codemirror_mode": {
    "name": "ipython",
    "version": 3
   },
   "file_extension": ".py",
   "mimetype": "text/x-python",
   "name": "python",
   "nbconvert_exporter": "python",
   "pygments_lexer": "ipython3",
   "version": "3.9.12"
  },
  "orig_nbformat": 4
 },
 "nbformat": 4,
 "nbformat_minor": 2
}
